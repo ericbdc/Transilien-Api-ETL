{
 "cells": [
  {
   "cell_type": "markdown",
   "metadata": {},
   "source": [
    "# Gares transilien"
   ]
  },
  {
   "cell_type": "code",
   "execution_count": 1,
   "metadata": {
    "collapsed": true
   },
   "outputs": [],
   "source": [
    "import pandas as pd"
   ]
  },
  {
   "cell_type": "code",
   "execution_count": 2,
   "metadata": {
    "collapsed": true
   },
   "outputs": [],
   "source": [
    "df= pd.read_csv(\"gares_transilien.csv\", sep=\";\")\n",
    "df[[\"lat\",\"lng\"]]= df[\"Coord GPS (WGS84)\"].str.split(\",\", expand=True)\n",
    "# df.to_csv(\"gares_transilien_latlng.csv\")"
   ]
  },
  {
   "cell_type": "code",
   "execution_count": 3,
   "metadata": {
    "collapsed": false
   },
   "outputs": [
    {
     "data": {
      "text/html": [
       "<div>\n",
       "<table border=\"1\" class=\"dataframe\">\n",
       "  <thead>\n",
       "    <tr style=\"text-align: right;\">\n",
       "      <th></th>\n",
       "      <th>Code UIC</th>\n",
       "      <th>uic7</th>\n",
       "      <th>Libelle point d'arret</th>\n",
       "      <th>Libelle</th>\n",
       "      <th>Libelle STIF (info voyageurs)</th>\n",
       "      <th>Libelle SMS gare</th>\n",
       "      <th>Nom Gare</th>\n",
       "      <th>Adresse</th>\n",
       "      <th>Code INSEE commune</th>\n",
       "      <th>Commune</th>\n",
       "      <th>X (Lambert II etendu)</th>\n",
       "      <th>Y (Lambert II etendu)</th>\n",
       "      <th>Coord GPS (WGS84)</th>\n",
       "      <th>Zone Navigo</th>\n",
       "      <th>Gare non SNCF</th>\n",
       "      <th>lat</th>\n",
       "      <th>lng</th>\n",
       "    </tr>\n",
       "  </thead>\n",
       "  <tbody>\n",
       "    <tr>\n",
       "      <th>0</th>\n",
       "      <td>87113803</td>\n",
       "      <td>8711380</td>\n",
       "      <td>LES YVRIS - NOISY LE GRAND</td>\n",
       "      <td>LES YVRIS NOISY LE GRAND</td>\n",
       "      <td>GARE DES YVRIS NOISY LE GRAND</td>\n",
       "      <td>Les Yvris</td>\n",
       "      <td>Noisy-le-Grand Les Yvris</td>\n",
       "      <td>avenue du bois St Martin 93160 Noisy le Grand</td>\n",
       "      <td>93051</td>\n",
       "      <td>Noisy-le-Grand</td>\n",
       "      <td>617874.0</td>\n",
       "      <td>2425006.0</td>\n",
       "      <td>48.8231906883, 2.57979540155</td>\n",
       "      <td>4.0</td>\n",
       "      <td>0.0</td>\n",
       "      <td>48.8231906883</td>\n",
       "      <td>2.57979540155</td>\n",
       "    </tr>\n",
       "    <tr>\n",
       "      <th>1</th>\n",
       "      <td>87116012</td>\n",
       "      <td>8711601</td>\n",
       "      <td>GRETZ ARMAINVILLIERS</td>\n",
       "      <td>GRETZ ARMAINVILLIERS</td>\n",
       "      <td>GARE DE GRETZ ARMAINVILLIERS</td>\n",
       "      <td>Gretz</td>\n",
       "      <td>Gretz-Armainvilliers</td>\n",
       "      <td>Avenue de la Liberté 77220 Gretz-Armainvilliers</td>\n",
       "      <td>77215</td>\n",
       "      <td>Gretz-Armainvilliers</td>\n",
       "      <td>628860.0</td>\n",
       "      <td>2416398.0</td>\n",
       "      <td>48.7454247254, 2.72874414729</td>\n",
       "      <td>5.0</td>\n",
       "      <td>0.0</td>\n",
       "      <td>48.7454247254</td>\n",
       "      <td>2.72874414729</td>\n",
       "    </tr>\n",
       "  </tbody>\n",
       "</table>\n",
       "</div>"
      ],
      "text/plain": [
       "   Code UIC     uic7       Libelle point d'arret                   Libelle  \\\n",
       "0  87113803  8711380  LES YVRIS - NOISY LE GRAND  LES YVRIS NOISY LE GRAND   \n",
       "1  87116012  8711601        GRETZ ARMAINVILLIERS      GRETZ ARMAINVILLIERS   \n",
       "\n",
       "   Libelle STIF (info voyageurs) Libelle SMS gare                  Nom Gare  \\\n",
       "0  GARE DES YVRIS NOISY LE GRAND        Les Yvris  Noisy-le-Grand Les Yvris   \n",
       "1   GARE DE GRETZ ARMAINVILLIERS            Gretz      Gretz-Armainvilliers   \n",
       "\n",
       "                                           Adresse  Code INSEE commune  \\\n",
       "0    avenue du bois St Martin 93160 Noisy le Grand               93051   \n",
       "1  Avenue de la Liberté 77220 Gretz-Armainvilliers               77215   \n",
       "\n",
       "                Commune  X (Lambert II etendu)  Y (Lambert II etendu)  \\\n",
       "0        Noisy-le-Grand               617874.0              2425006.0   \n",
       "1  Gretz-Armainvilliers               628860.0              2416398.0   \n",
       "\n",
       "              Coord GPS (WGS84)  Zone Navigo  Gare non SNCF            lat  \\\n",
       "0  48.8231906883, 2.57979540155          4.0            0.0  48.8231906883   \n",
       "1  48.7454247254, 2.72874414729          5.0            0.0  48.7454247254   \n",
       "\n",
       "              lng  \n",
       "0   2.57979540155  \n",
       "1   2.72874414729  "
      ]
     },
     "execution_count": 3,
     "metadata": {},
     "output_type": "execute_result"
    }
   ],
   "source": [
    "df.head(2)"
   ]
  },
  {
   "cell_type": "markdown",
   "metadata": {},
   "source": [
    "# Schedules"
   ]
  },
  {
   "cell_type": "markdown",
   "metadata": {},
   "source": [
    "## Routes"
   ]
  },
  {
   "cell_type": "code",
   "execution_count": 4,
   "metadata": {
    "collapsed": false
   },
   "outputs": [],
   "source": [
    "df = pd.read_csv(\"gtfs-lines-last/routes.txt\")"
   ]
  },
  {
   "cell_type": "code",
   "execution_count": 5,
   "metadata": {
    "collapsed": false
   },
   "outputs": [
    {
     "data": {
      "text/html": [
       "<div>\n",
       "<table border=\"1\" class=\"dataframe\">\n",
       "  <thead>\n",
       "    <tr style=\"text-align: right;\">\n",
       "      <th></th>\n",
       "      <th>route_id</th>\n",
       "      <th>agency_id</th>\n",
       "      <th>route_short_name</th>\n",
       "      <th>route_long_name</th>\n",
       "      <th>route_desc</th>\n",
       "      <th>route_type</th>\n",
       "      <th>route_url</th>\n",
       "      <th>route_color</th>\n",
       "      <th>route_text_color</th>\n",
       "    </tr>\n",
       "  </thead>\n",
       "  <tbody>\n",
       "    <tr>\n",
       "      <th>0</th>\n",
       "      <td>DUA800853021</td>\n",
       "      <td>DUA853</td>\n",
       "      <td>H</td>\n",
       "      <td>Gare du Nord - Pontoise / Luzarches / Beauvais...</td>\n",
       "      <td>NaN</td>\n",
       "      <td>2</td>\n",
       "      <td>NaN</td>\n",
       "      <td>7B4339</td>\n",
       "      <td>FFFFFF</td>\n",
       "    </tr>\n",
       "    <tr>\n",
       "      <th>1</th>\n",
       "      <td>DUA800803571</td>\n",
       "      <td>DUA803</td>\n",
       "      <td>C</td>\n",
       "      <td>Pontoise / Versailles R. Gauche / St-Quentin e...</td>\n",
       "      <td>NaN</td>\n",
       "      <td>3</td>\n",
       "      <td>NaN</td>\n",
       "      <td>FCD946</td>\n",
       "      <td>FFFFFF</td>\n",
       "    </tr>\n",
       "  </tbody>\n",
       "</table>\n",
       "</div>"
      ],
      "text/plain": [
       "       route_id agency_id route_short_name  \\\n",
       "0  DUA800853021    DUA853                H   \n",
       "1  DUA800803571    DUA803                C   \n",
       "\n",
       "                                     route_long_name  route_desc  route_type  \\\n",
       "0  Gare du Nord - Pontoise / Luzarches / Beauvais...         NaN           2   \n",
       "1  Pontoise / Versailles R. Gauche / St-Quentin e...         NaN           3   \n",
       "\n",
       "   route_url route_color route_text_color  \n",
       "0        NaN      7B4339           FFFFFF  \n",
       "1        NaN      FCD946           FFFFFF  "
      ]
     },
     "execution_count": 5,
     "metadata": {},
     "output_type": "execute_result"
    }
   ],
   "source": [
    "df.head(2)"
   ]
  },
  {
   "cell_type": "markdown",
   "metadata": {},
   "source": [
    "## Calendar dates"
   ]
  },
  {
   "cell_type": "code",
   "execution_count": 6,
   "metadata": {
    "collapsed": true
   },
   "outputs": [],
   "source": [
    "df = pd.read_csv(\"gtfs-lines-last/calendar_dates.txt\")"
   ]
  },
  {
   "cell_type": "code",
   "execution_count": 7,
   "metadata": {
    "collapsed": false
   },
   "outputs": [
    {
     "data": {
      "text/html": [
       "<div>\n",
       "<table border=\"1\" class=\"dataframe\">\n",
       "  <thead>\n",
       "    <tr style=\"text-align: right;\">\n",
       "      <th></th>\n",
       "      <th>service_id</th>\n",
       "      <th>date</th>\n",
       "      <th>exception_type</th>\n",
       "    </tr>\n",
       "  </thead>\n",
       "  <tbody>\n",
       "    <tr>\n",
       "      <th>0</th>\n",
       "      <td>10792</td>\n",
       "      <td>20170207</td>\n",
       "      <td>2</td>\n",
       "    </tr>\n",
       "    <tr>\n",
       "      <th>1</th>\n",
       "      <td>10792</td>\n",
       "      <td>20170208</td>\n",
       "      <td>2</td>\n",
       "    </tr>\n",
       "  </tbody>\n",
       "</table>\n",
       "</div>"
      ],
      "text/plain": [
       "   service_id      date  exception_type\n",
       "0       10792  20170207               2\n",
       "1       10792  20170208               2"
      ]
     },
     "execution_count": 7,
     "metadata": {},
     "output_type": "execute_result"
    }
   ],
   "source": [
    "df.head(2)"
   ]
  },
  {
   "cell_type": "markdown",
   "metadata": {},
   "source": [
    "## Calendar"
   ]
  },
  {
   "cell_type": "code",
   "execution_count": 8,
   "metadata": {
    "collapsed": true
   },
   "outputs": [],
   "source": [
    "df = pd.read_csv(\"gtfs-lines-last/calendar.txt\")"
   ]
  },
  {
   "cell_type": "code",
   "execution_count": 9,
   "metadata": {
    "collapsed": false
   },
   "outputs": [
    {
     "data": {
      "text/html": [
       "<div>\n",
       "<table border=\"1\" class=\"dataframe\">\n",
       "  <thead>\n",
       "    <tr style=\"text-align: right;\">\n",
       "      <th></th>\n",
       "      <th>service_id</th>\n",
       "      <th>monday</th>\n",
       "      <th>tuesday</th>\n",
       "      <th>wednesday</th>\n",
       "      <th>thursday</th>\n",
       "      <th>friday</th>\n",
       "      <th>saturday</th>\n",
       "      <th>sunday</th>\n",
       "      <th>start_date</th>\n",
       "      <th>end_date</th>\n",
       "    </tr>\n",
       "  </thead>\n",
       "  <tbody>\n",
       "    <tr>\n",
       "      <th>0</th>\n",
       "      <td>10792</td>\n",
       "      <td>1</td>\n",
       "      <td>1</td>\n",
       "      <td>1</td>\n",
       "      <td>1</td>\n",
       "      <td>1</td>\n",
       "      <td>1</td>\n",
       "      <td>1</td>\n",
       "      <td>20161201</td>\n",
       "      <td>20170607</td>\n",
       "    </tr>\n",
       "    <tr>\n",
       "      <th>1</th>\n",
       "      <td>10811</td>\n",
       "      <td>0</td>\n",
       "      <td>0</td>\n",
       "      <td>0</td>\n",
       "      <td>0</td>\n",
       "      <td>1</td>\n",
       "      <td>0</td>\n",
       "      <td>0</td>\n",
       "      <td>20170217</td>\n",
       "      <td>20170526</td>\n",
       "    </tr>\n",
       "    <tr>\n",
       "      <th>2</th>\n",
       "      <td>10833</td>\n",
       "      <td>0</td>\n",
       "      <td>1</td>\n",
       "      <td>1</td>\n",
       "      <td>1</td>\n",
       "      <td>1</td>\n",
       "      <td>1</td>\n",
       "      <td>0</td>\n",
       "      <td>20161201</td>\n",
       "      <td>20161217</td>\n",
       "    </tr>\n",
       "    <tr>\n",
       "      <th>3</th>\n",
       "      <td>10119</td>\n",
       "      <td>0</td>\n",
       "      <td>1</td>\n",
       "      <td>1</td>\n",
       "      <td>1</td>\n",
       "      <td>1</td>\n",
       "      <td>1</td>\n",
       "      <td>0</td>\n",
       "      <td>20161201</td>\n",
       "      <td>20161210</td>\n",
       "    </tr>\n",
       "    <tr>\n",
       "      <th>4</th>\n",
       "      <td>10835</td>\n",
       "      <td>0</td>\n",
       "      <td>0</td>\n",
       "      <td>0</td>\n",
       "      <td>0</td>\n",
       "      <td>0</td>\n",
       "      <td>0</td>\n",
       "      <td>1</td>\n",
       "      <td>20170206</td>\n",
       "      <td>20170409</td>\n",
       "    </tr>\n",
       "  </tbody>\n",
       "</table>\n",
       "</div>"
      ],
      "text/plain": [
       "   service_id  monday  tuesday  wednesday  thursday  friday  saturday  sunday  \\\n",
       "0       10792       1        1          1         1       1         1       1   \n",
       "1       10811       0        0          0         0       1         0       0   \n",
       "2       10833       0        1          1         1       1         1       0   \n",
       "3       10119       0        1          1         1       1         1       0   \n",
       "4       10835       0        0          0         0       0         0       1   \n",
       "\n",
       "   start_date  end_date  \n",
       "0    20161201  20170607  \n",
       "1    20170217  20170526  \n",
       "2    20161201  20161217  \n",
       "3    20161201  20161210  \n",
       "4    20170206  20170409  "
      ]
     },
     "execution_count": 9,
     "metadata": {},
     "output_type": "execute_result"
    }
   ],
   "source": [
    "df.head(5)"
   ]
  },
  {
   "cell_type": "markdown",
   "metadata": {},
   "source": [
    "## Stop times"
   ]
  },
  {
   "cell_type": "code",
   "execution_count": 10,
   "metadata": {
    "collapsed": true
   },
   "outputs": [],
   "source": [
    "df = pd.read_csv(\"gtfs-lines-last/stop_times.txt\")"
   ]
  },
  {
   "cell_type": "code",
   "execution_count": 11,
   "metadata": {
    "collapsed": false
   },
   "outputs": [
    {
     "data": {
      "text/html": [
       "<div>\n",
       "<table border=\"1\" class=\"dataframe\">\n",
       "  <thead>\n",
       "    <tr style=\"text-align: right;\">\n",
       "      <th></th>\n",
       "      <th>trip_id</th>\n",
       "      <th>arrival_time</th>\n",
       "      <th>departure_time</th>\n",
       "      <th>stop_id</th>\n",
       "      <th>stop_sequence</th>\n",
       "      <th>stop_headsign</th>\n",
       "      <th>pickup_type</th>\n",
       "      <th>drop_off_type</th>\n",
       "    </tr>\n",
       "  </thead>\n",
       "  <tbody>\n",
       "    <tr>\n",
       "      <th>0</th>\n",
       "      <td>DUASN124693F09002-1_511854</td>\n",
       "      <td>00:06:00</td>\n",
       "      <td>00:06:00</td>\n",
       "      <td>StopPoint:DUA8727605</td>\n",
       "      <td>0</td>\n",
       "      <td>NaN</td>\n",
       "      <td>0</td>\n",
       "      <td>1</td>\n",
       "    </tr>\n",
       "    <tr>\n",
       "      <th>1</th>\n",
       "      <td>DUASN124693F09002-1_511854</td>\n",
       "      <td>00:08:00</td>\n",
       "      <td>00:09:00</td>\n",
       "      <td>StopPoint:DUA8727658</td>\n",
       "      <td>1</td>\n",
       "      <td>NaN</td>\n",
       "      <td>0</td>\n",
       "      <td>0</td>\n",
       "    </tr>\n",
       "  </tbody>\n",
       "</table>\n",
       "</div>"
      ],
      "text/plain": [
       "                      trip_id arrival_time departure_time  \\\n",
       "0  DUASN124693F09002-1_511854     00:06:00       00:06:00   \n",
       "1  DUASN124693F09002-1_511854     00:08:00       00:09:00   \n",
       "\n",
       "                stop_id  stop_sequence  stop_headsign  pickup_type  \\\n",
       "0  StopPoint:DUA8727605              0            NaN            0   \n",
       "1  StopPoint:DUA8727658              1            NaN            0   \n",
       "\n",
       "   drop_off_type  \n",
       "0              1  \n",
       "1              0  "
      ]
     },
     "execution_count": 11,
     "metadata": {},
     "output_type": "execute_result"
    }
   ],
   "source": [
    "df.head(2)"
   ]
  },
  {
   "cell_type": "markdown",
   "metadata": {},
   "source": [
    "## Stops"
   ]
  },
  {
   "cell_type": "code",
   "execution_count": 12,
   "metadata": {
    "collapsed": true
   },
   "outputs": [],
   "source": [
    "df = pd.read_csv(\"gtfs-lines-last/stops.txt\")"
   ]
  },
  {
   "cell_type": "code",
   "execution_count": 13,
   "metadata": {
    "collapsed": false
   },
   "outputs": [
    {
     "data": {
      "text/html": [
       "<div>\n",
       "<table border=\"1\" class=\"dataframe\">\n",
       "  <thead>\n",
       "    <tr style=\"text-align: right;\">\n",
       "      <th></th>\n",
       "      <th>stop_id</th>\n",
       "      <th>stop_name</th>\n",
       "      <th>stop_desc</th>\n",
       "      <th>stop_lat</th>\n",
       "      <th>stop_lon</th>\n",
       "      <th>zone_id</th>\n",
       "      <th>stop_url</th>\n",
       "      <th>location_type</th>\n",
       "      <th>parent_station</th>\n",
       "    </tr>\n",
       "  </thead>\n",
       "  <tbody>\n",
       "    <tr>\n",
       "      <th>0</th>\n",
       "      <td>StopArea:DUA8727605</td>\n",
       "      <td>ERMONT EAUBONNE</td>\n",
       "      <td>NaN</td>\n",
       "      <td>48.980236</td>\n",
       "      <td>2.271376</td>\n",
       "      <td>NaN</td>\n",
       "      <td>NaN</td>\n",
       "      <td>1</td>\n",
       "      <td>NaN</td>\n",
       "    </tr>\n",
       "    <tr>\n",
       "      <th>1</th>\n",
       "      <td>StopArea:DUA8727658</td>\n",
       "      <td>ERMONT HALTE</td>\n",
       "      <td>NaN</td>\n",
       "      <td>48.990651</td>\n",
       "      <td>2.263183</td>\n",
       "      <td>NaN</td>\n",
       "      <td>NaN</td>\n",
       "      <td>1</td>\n",
       "      <td>NaN</td>\n",
       "    </tr>\n",
       "  </tbody>\n",
       "</table>\n",
       "</div>"
      ],
      "text/plain": [
       "               stop_id        stop_name  stop_desc   stop_lat  stop_lon  \\\n",
       "0  StopArea:DUA8727605  ERMONT EAUBONNE        NaN  48.980236  2.271376   \n",
       "1  StopArea:DUA8727658     ERMONT HALTE        NaN  48.990651  2.263183   \n",
       "\n",
       "   zone_id  stop_url  location_type parent_station  \n",
       "0      NaN       NaN              1            NaN  \n",
       "1      NaN       NaN              1            NaN  "
      ]
     },
     "execution_count": 13,
     "metadata": {},
     "output_type": "execute_result"
    }
   ],
   "source": [
    "df.head(2)"
   ]
  },
  {
   "cell_type": "markdown",
   "metadata": {},
   "source": [
    "## Transfers"
   ]
  },
  {
   "cell_type": "code",
   "execution_count": 14,
   "metadata": {
    "collapsed": true
   },
   "outputs": [],
   "source": [
    "df = pd.read_csv(\"gtfs-lines-last/transfers.txt\")"
   ]
  },
  {
   "cell_type": "code",
   "execution_count": 15,
   "metadata": {
    "collapsed": false
   },
   "outputs": [
    {
     "data": {
      "text/html": [
       "<div>\n",
       "<table border=\"1\" class=\"dataframe\">\n",
       "  <thead>\n",
       "    <tr style=\"text-align: right;\">\n",
       "      <th></th>\n",
       "      <th>from_stop_id</th>\n",
       "      <th>to_stop_id</th>\n",
       "      <th>transfer_type</th>\n",
       "      <th>min_transfer_time</th>\n",
       "    </tr>\n",
       "  </thead>\n",
       "  <tbody>\n",
       "    <tr>\n",
       "      <th>0</th>\n",
       "      <td>StopPoint:DUA8754700</td>\n",
       "      <td>StopPoint:DUA8754702</td>\n",
       "      <td>2</td>\n",
       "      <td>252</td>\n",
       "    </tr>\n",
       "    <tr>\n",
       "      <th>1</th>\n",
       "      <td>StopPoint:DUA8754702</td>\n",
       "      <td>StopPoint:DUA8754700</td>\n",
       "      <td>2</td>\n",
       "      <td>252</td>\n",
       "    </tr>\n",
       "  </tbody>\n",
       "</table>\n",
       "</div>"
      ],
      "text/plain": [
       "           from_stop_id            to_stop_id  transfer_type  \\\n",
       "0  StopPoint:DUA8754700  StopPoint:DUA8754702              2   \n",
       "1  StopPoint:DUA8754702  StopPoint:DUA8754700              2   \n",
       "\n",
       "   min_transfer_time  \n",
       "0                252  \n",
       "1                252  "
      ]
     },
     "execution_count": 15,
     "metadata": {},
     "output_type": "execute_result"
    }
   ],
   "source": [
    "df.head(2)"
   ]
  },
  {
   "cell_type": "markdown",
   "metadata": {},
   "source": [
    "## Trips"
   ]
  },
  {
   "cell_type": "code",
   "execution_count": 16,
   "metadata": {
    "collapsed": true
   },
   "outputs": [],
   "source": [
    "df = pd.read_csv(\"gtfs-lines-last/trips.txt\")"
   ]
  },
  {
   "cell_type": "code",
   "execution_count": 17,
   "metadata": {
    "collapsed": false
   },
   "outputs": [
    {
     "data": {
      "text/html": [
       "<div>\n",
       "<table border=\"1\" class=\"dataframe\">\n",
       "  <thead>\n",
       "    <tr style=\"text-align: right;\">\n",
       "      <th></th>\n",
       "      <th>route_id</th>\n",
       "      <th>service_id</th>\n",
       "      <th>trip_id</th>\n",
       "      <th>trip_headsign</th>\n",
       "      <th>direction_id</th>\n",
       "      <th>block_id</th>\n",
       "    </tr>\n",
       "  </thead>\n",
       "  <tbody>\n",
       "    <tr>\n",
       "      <th>0</th>\n",
       "      <td>DUA800853021</td>\n",
       "      <td>10792</td>\n",
       "      <td>DUASN124693F09002-1_511854</td>\n",
       "      <td>POTA</td>\n",
       "      <td>0</td>\n",
       "      <td>NaN</td>\n",
       "    </tr>\n",
       "    <tr>\n",
       "      <th>1</th>\n",
       "      <td>DUA800853021</td>\n",
       "      <td>10792</td>\n",
       "      <td>DUASN124695F02002-1_511855</td>\n",
       "      <td>POTA</td>\n",
       "      <td>0</td>\n",
       "      <td>NaN</td>\n",
       "    </tr>\n",
       "  </tbody>\n",
       "</table>\n",
       "</div>"
      ],
      "text/plain": [
       "       route_id  service_id                     trip_id trip_headsign  \\\n",
       "0  DUA800853021       10792  DUASN124693F09002-1_511854          POTA   \n",
       "1  DUA800853021       10792  DUASN124695F02002-1_511855          POTA   \n",
       "\n",
       "   direction_id  block_id  \n",
       "0             0       NaN  \n",
       "1             0       NaN  "
      ]
     },
     "execution_count": 17,
     "metadata": {},
     "output_type": "execute_result"
    }
   ],
   "source": [
    "df.head(2)"
   ]
  },
  {
   "cell_type": "code",
   "execution_count": null,
   "metadata": {
    "collapsed": true
   },
   "outputs": [],
   "source": []
  }
 ],
 "metadata": {
  "anaconda-cloud": {},
  "kernelspec": {
   "display_name": "Python [Root]",
   "language": "python",
   "name": "Python [Root]"
  },
  "language_info": {
   "codemirror_mode": {
    "name": "ipython",
    "version": 3
   },
   "file_extension": ".py",
   "mimetype": "text/x-python",
   "name": "python",
   "nbconvert_exporter": "python",
   "pygments_lexer": "ipython3",
   "version": "3.5.2"
  }
 },
 "nbformat": 4,
 "nbformat_minor": 0
}
